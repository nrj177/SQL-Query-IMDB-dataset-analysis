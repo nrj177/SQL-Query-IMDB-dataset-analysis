{
  "nbformat": 4,
  "nbformat_minor": 0,
  "metadata": {
    "colab": {
      "name": "SQL Query IMDB dataset analysis.ipynb",
      "provenance": [],
      "collapsed_sections": [],
      "toc_visible": true,
      "authorship_tag": "ABX9TyPqGS7Jq2iDkrtQZHghmTrA",
      "include_colab_link": true
    },
    "kernelspec": {
      "name": "python3",
      "display_name": "Python 3"
    },
    "language_info": {
      "name": "python"
    }
  },
  "cells": [
    {
      "cell_type": "markdown",
      "metadata": {
        "id": "view-in-github",
        "colab_type": "text"
      },
      "source": [
        "<a href=\"https://colab.research.google.com/github/nrj177/SQL-Query-IMDB-dataset-analysis/blob/main/SQL_Query_IMDB_dataset_analysis.ipynb\" target=\"_parent\"><img src=\"https://colab.research.google.com/assets/colab-badge.svg\" alt=\"Open In Colab\"/></a>"
      ]
    },
    {
      "cell_type": "markdown",
      "metadata": {
        "id": "prKA2y_jgwIZ"
      },
      "source": [
        "database: https://drive.google.com/file/d/1vlTeCUIfw_oxhpENKPJdcm1L34t6qdSg/view?usp=sharing"
      ]
    },
    {
      "cell_type": "markdown",
      "metadata": {
        "id": "l6qSzLFTfdL_"
      },
      "source": [
        "importing all libraries"
      ]
    },
    {
      "cell_type": "code",
      "metadata": {
        "id": "Hop7c_MwflFA"
      },
      "source": [
        "#to perform mathematical operation\n",
        "import numpy as np\n",
        "\n",
        "#data manipulation tool\n",
        "import pandas as pd\n",
        "\n",
        "#data visualisation tool\n",
        "import matplotlib.pyplot as plt\n",
        "\n",
        "#data visualisation tool\n",
        "import seaborn as sns\n",
        "\n",
        "#server-less database\n",
        "import sqlite3\n",
        "\n",
        "#data cleaning\n",
        "import re\n",
        "\n"
      ],
      "execution_count": 36,
      "outputs": []
    },
    {
      "cell_type": "markdown",
      "metadata": {
        "id": "JzbIYJp9ikuB"
      },
      "source": [
        "1. Establishing the connection to the database"
      ]
    },
    {
      "cell_type": "code",
      "metadata": {
        "id": "fecv7QObi00b"
      },
      "source": [
        "#storing the path of the database into a variable 'db'\n",
        "db='/movies.sqlite'\n",
        "\n",
        "#creating a database connection object\n",
        "conn = sqlite3.connect(db)\n",
        "\n",
        "#creating a cursor object\n",
        "cur = conn.cursor()"
      ],
      "execution_count": 37,
      "outputs": []
    },
    {
      "cell_type": "code",
      "source": [
        "# Fetch all the data of the movies table from the database\n",
        "cur.execute('SELECT * FROM movies')\n",
        "\n",
        "#creating a cursor object\n",
        "movies = cur.fetchall()"
      ],
      "metadata": {
        "id": "0xceRss2aRIG"
      },
      "execution_count": 38,
      "outputs": []
    },
    {
      "cell_type": "code",
      "source": [
        "#creating a DataFrame\n",
        "movies_df = pd.DataFrame(movies, columns=['id','original_title','budget','popularity',\n",
        "                                          'release_date','revenue','title','vote_average',\n",
        "                                          'vote_count','overview','tagline','uid','director_id'] )\n"
      ],
      "metadata": {
        "id": "hE8StJcyczFR"
      },
      "execution_count": 39,
      "outputs": []
    },
    {
      "cell_type": "code",
      "source": [
        "#displaying the dataframe\n",
        "movies_df"
      ],
      "metadata": {
        "colab": {
          "base_uri": "https://localhost:8080/",
          "height": 798
        },
        "id": "hvVQ36NbfA0j",
        "outputId": "2db6d673-1c80-47c6-d0d6-10dbc9186f6b"
      },
      "execution_count": 40,
      "outputs": [
        {
          "output_type": "execute_result",
          "data": {
            "text/html": [
              "\n",
              "  <div id=\"df-69630e2d-cb7e-48ad-a575-bd63fe115186\">\n",
              "    <div class=\"colab-df-container\">\n",
              "      <div>\n",
              "<style scoped>\n",
              "    .dataframe tbody tr th:only-of-type {\n",
              "        vertical-align: middle;\n",
              "    }\n",
              "\n",
              "    .dataframe tbody tr th {\n",
              "        vertical-align: top;\n",
              "    }\n",
              "\n",
              "    .dataframe thead th {\n",
              "        text-align: right;\n",
              "    }\n",
              "</style>\n",
              "<table border=\"1\" class=\"dataframe\">\n",
              "  <thead>\n",
              "    <tr style=\"text-align: right;\">\n",
              "      <th></th>\n",
              "      <th>id</th>\n",
              "      <th>original_title</th>\n",
              "      <th>budget</th>\n",
              "      <th>popularity</th>\n",
              "      <th>release_date</th>\n",
              "      <th>revenue</th>\n",
              "      <th>title</th>\n",
              "      <th>vote_average</th>\n",
              "      <th>vote_count</th>\n",
              "      <th>overview</th>\n",
              "      <th>tagline</th>\n",
              "      <th>uid</th>\n",
              "      <th>director_id</th>\n",
              "    </tr>\n",
              "  </thead>\n",
              "  <tbody>\n",
              "    <tr>\n",
              "      <th>0</th>\n",
              "      <td>43597</td>\n",
              "      <td>Avatar</td>\n",
              "      <td>237000000</td>\n",
              "      <td>150</td>\n",
              "      <td>2009-12-10</td>\n",
              "      <td>2787965087</td>\n",
              "      <td>Avatar</td>\n",
              "      <td>7.2</td>\n",
              "      <td>11800</td>\n",
              "      <td>In the 22nd century, a paraplegic Marine is di...</td>\n",
              "      <td>Enter the World of Pandora.</td>\n",
              "      <td>19995</td>\n",
              "      <td>4762</td>\n",
              "    </tr>\n",
              "    <tr>\n",
              "      <th>1</th>\n",
              "      <td>43598</td>\n",
              "      <td>Pirates of the Caribbean: At World's End</td>\n",
              "      <td>300000000</td>\n",
              "      <td>139</td>\n",
              "      <td>2007-05-19</td>\n",
              "      <td>961000000</td>\n",
              "      <td>Pirates of the Caribbean: At World's End</td>\n",
              "      <td>6.9</td>\n",
              "      <td>4500</td>\n",
              "      <td>Captain Barbossa, long believed to be dead, ha...</td>\n",
              "      <td>At the end of the world, the adventure begins.</td>\n",
              "      <td>285</td>\n",
              "      <td>4763</td>\n",
              "    </tr>\n",
              "    <tr>\n",
              "      <th>2</th>\n",
              "      <td>43599</td>\n",
              "      <td>Spectre</td>\n",
              "      <td>245000000</td>\n",
              "      <td>107</td>\n",
              "      <td>2015-10-26</td>\n",
              "      <td>880674609</td>\n",
              "      <td>Spectre</td>\n",
              "      <td>6.3</td>\n",
              "      <td>4466</td>\n",
              "      <td>A cryptic message from Bond’s past sends him o...</td>\n",
              "      <td>A Plan No One Escapes</td>\n",
              "      <td>206647</td>\n",
              "      <td>4764</td>\n",
              "    </tr>\n",
              "    <tr>\n",
              "      <th>3</th>\n",
              "      <td>43600</td>\n",
              "      <td>The Dark Knight Rises</td>\n",
              "      <td>250000000</td>\n",
              "      <td>112</td>\n",
              "      <td>2012-07-16</td>\n",
              "      <td>1084939099</td>\n",
              "      <td>The Dark Knight Rises</td>\n",
              "      <td>7.6</td>\n",
              "      <td>9106</td>\n",
              "      <td>Following the death of District Attorney Harve...</td>\n",
              "      <td>The Legend Ends</td>\n",
              "      <td>49026</td>\n",
              "      <td>4765</td>\n",
              "    </tr>\n",
              "    <tr>\n",
              "      <th>4</th>\n",
              "      <td>43601</td>\n",
              "      <td>John Carter</td>\n",
              "      <td>260000000</td>\n",
              "      <td>43</td>\n",
              "      <td>2012-03-07</td>\n",
              "      <td>284139100</td>\n",
              "      <td>John Carter</td>\n",
              "      <td>6.1</td>\n",
              "      <td>2124</td>\n",
              "      <td>John Carter is a war-weary, former military ca...</td>\n",
              "      <td>Lost in our world, found in another.</td>\n",
              "      <td>49529</td>\n",
              "      <td>4766</td>\n",
              "    </tr>\n",
              "    <tr>\n",
              "      <th>...</th>\n",
              "      <td>...</td>\n",
              "      <td>...</td>\n",
              "      <td>...</td>\n",
              "      <td>...</td>\n",
              "      <td>...</td>\n",
              "      <td>...</td>\n",
              "      <td>...</td>\n",
              "      <td>...</td>\n",
              "      <td>...</td>\n",
              "      <td>...</td>\n",
              "      <td>...</td>\n",
              "      <td>...</td>\n",
              "      <td>...</td>\n",
              "    </tr>\n",
              "    <tr>\n",
              "      <th>4768</th>\n",
              "      <td>48395</td>\n",
              "      <td>El Mariachi</td>\n",
              "      <td>220000</td>\n",
              "      <td>14</td>\n",
              "      <td>1992-09-04</td>\n",
              "      <td>2040920</td>\n",
              "      <td>El Mariachi</td>\n",
              "      <td>6.6</td>\n",
              "      <td>238</td>\n",
              "      <td>El Mariachi just wants to play his guitar and ...</td>\n",
              "      <td>He didn't come looking for trouble, but troubl...</td>\n",
              "      <td>9367</td>\n",
              "      <td>5097</td>\n",
              "    </tr>\n",
              "    <tr>\n",
              "      <th>4769</th>\n",
              "      <td>48396</td>\n",
              "      <td>Newlyweds</td>\n",
              "      <td>9000</td>\n",
              "      <td>0</td>\n",
              "      <td>2011-12-26</td>\n",
              "      <td>0</td>\n",
              "      <td>Newlyweds</td>\n",
              "      <td>5.9</td>\n",
              "      <td>5</td>\n",
              "      <td>A newlywed couple's honeymoon is upended by th...</td>\n",
              "      <td>A newlywed couple's honeymoon is upended by th...</td>\n",
              "      <td>72766</td>\n",
              "      <td>6485</td>\n",
              "    </tr>\n",
              "    <tr>\n",
              "      <th>4770</th>\n",
              "      <td>48397</td>\n",
              "      <td>Signed, Sealed, Delivered</td>\n",
              "      <td>0</td>\n",
              "      <td>1</td>\n",
              "      <td>2013-10-13</td>\n",
              "      <td>0</td>\n",
              "      <td>Signed, Sealed, Delivered</td>\n",
              "      <td>7.0</td>\n",
              "      <td>6</td>\n",
              "      <td>\"Signed, Sealed, Delivered\" introduces a dedic...</td>\n",
              "      <td>None</td>\n",
              "      <td>231617</td>\n",
              "      <td>7108</td>\n",
              "    </tr>\n",
              "    <tr>\n",
              "      <th>4771</th>\n",
              "      <td>48398</td>\n",
              "      <td>Shanghai Calling</td>\n",
              "      <td>0</td>\n",
              "      <td>0</td>\n",
              "      <td>2012-05-03</td>\n",
              "      <td>0</td>\n",
              "      <td>Shanghai Calling</td>\n",
              "      <td>5.7</td>\n",
              "      <td>7</td>\n",
              "      <td>When ambitious New York attorney Sam is sent t...</td>\n",
              "      <td>A New Yorker in Shanghai</td>\n",
              "      <td>126186</td>\n",
              "      <td>7109</td>\n",
              "    </tr>\n",
              "    <tr>\n",
              "      <th>4772</th>\n",
              "      <td>48399</td>\n",
              "      <td>My Date with Drew</td>\n",
              "      <td>0</td>\n",
              "      <td>1</td>\n",
              "      <td>2005-08-05</td>\n",
              "      <td>0</td>\n",
              "      <td>My Date with Drew</td>\n",
              "      <td>6.3</td>\n",
              "      <td>16</td>\n",
              "      <td>Ever since the second grade when he first saw ...</td>\n",
              "      <td>None</td>\n",
              "      <td>25975</td>\n",
              "      <td>7110</td>\n",
              "    </tr>\n",
              "  </tbody>\n",
              "</table>\n",
              "<p>4773 rows × 13 columns</p>\n",
              "</div>\n",
              "      <button class=\"colab-df-convert\" onclick=\"convertToInteractive('df-69630e2d-cb7e-48ad-a575-bd63fe115186')\"\n",
              "              title=\"Convert this dataframe to an interactive table.\"\n",
              "              style=\"display:none;\">\n",
              "        \n",
              "  <svg xmlns=\"http://www.w3.org/2000/svg\" height=\"24px\"viewBox=\"0 0 24 24\"\n",
              "       width=\"24px\">\n",
              "    <path d=\"M0 0h24v24H0V0z\" fill=\"none\"/>\n",
              "    <path d=\"M18.56 5.44l.94 2.06.94-2.06 2.06-.94-2.06-.94-.94-2.06-.94 2.06-2.06.94zm-11 1L8.5 8.5l.94-2.06 2.06-.94-2.06-.94L8.5 2.5l-.94 2.06-2.06.94zm10 10l.94 2.06.94-2.06 2.06-.94-2.06-.94-.94-2.06-.94 2.06-2.06.94z\"/><path d=\"M17.41 7.96l-1.37-1.37c-.4-.4-.92-.59-1.43-.59-.52 0-1.04.2-1.43.59L10.3 9.45l-7.72 7.72c-.78.78-.78 2.05 0 2.83L4 21.41c.39.39.9.59 1.41.59.51 0 1.02-.2 1.41-.59l7.78-7.78 2.81-2.81c.8-.78.8-2.07 0-2.86zM5.41 20L4 18.59l7.72-7.72 1.47 1.35L5.41 20z\"/>\n",
              "  </svg>\n",
              "      </button>\n",
              "      \n",
              "  <style>\n",
              "    .colab-df-container {\n",
              "      display:flex;\n",
              "      flex-wrap:wrap;\n",
              "      gap: 12px;\n",
              "    }\n",
              "\n",
              "    .colab-df-convert {\n",
              "      background-color: #E8F0FE;\n",
              "      border: none;\n",
              "      border-radius: 50%;\n",
              "      cursor: pointer;\n",
              "      display: none;\n",
              "      fill: #1967D2;\n",
              "      height: 32px;\n",
              "      padding: 0 0 0 0;\n",
              "      width: 32px;\n",
              "    }\n",
              "\n",
              "    .colab-df-convert:hover {\n",
              "      background-color: #E2EBFA;\n",
              "      box-shadow: 0px 1px 2px rgba(60, 64, 67, 0.3), 0px 1px 3px 1px rgba(60, 64, 67, 0.15);\n",
              "      fill: #174EA6;\n",
              "    }\n",
              "\n",
              "    [theme=dark] .colab-df-convert {\n",
              "      background-color: #3B4455;\n",
              "      fill: #D2E3FC;\n",
              "    }\n",
              "\n",
              "    [theme=dark] .colab-df-convert:hover {\n",
              "      background-color: #434B5C;\n",
              "      box-shadow: 0px 1px 3px 1px rgba(0, 0, 0, 0.15);\n",
              "      filter: drop-shadow(0px 1px 2px rgba(0, 0, 0, 0.3));\n",
              "      fill: #FFFFFF;\n",
              "    }\n",
              "  </style>\n",
              "\n",
              "      <script>\n",
              "        const buttonEl =\n",
              "          document.querySelector('#df-69630e2d-cb7e-48ad-a575-bd63fe115186 button.colab-df-convert');\n",
              "        buttonEl.style.display =\n",
              "          google.colab.kernel.accessAllowed ? 'block' : 'none';\n",
              "\n",
              "        async function convertToInteractive(key) {\n",
              "          const element = document.querySelector('#df-69630e2d-cb7e-48ad-a575-bd63fe115186');\n",
              "          const dataTable =\n",
              "            await google.colab.kernel.invokeFunction('convertToInteractive',\n",
              "                                                     [key], {});\n",
              "          if (!dataTable) return;\n",
              "\n",
              "          const docLinkHtml = 'Like what you see? Visit the ' +\n",
              "            '<a target=\"_blank\" href=https://colab.research.google.com/notebooks/data_table.ipynb>data table notebook</a>'\n",
              "            + ' to learn more about interactive tables.';\n",
              "          element.innerHTML = '';\n",
              "          dataTable['output_type'] = 'display_data';\n",
              "          await google.colab.output.renderOutput(dataTable, element);\n",
              "          const docLink = document.createElement('div');\n",
              "          docLink.innerHTML = docLinkHtml;\n",
              "          element.appendChild(docLink);\n",
              "        }\n",
              "      </script>\n",
              "    </div>\n",
              "  </div>\n",
              "  "
            ],
            "text/plain": [
              "         id                            original_title  ...     uid  director_id\n",
              "0     43597                                    Avatar  ...   19995         4762\n",
              "1     43598  Pirates of the Caribbean: At World's End  ...     285         4763\n",
              "2     43599                                   Spectre  ...  206647         4764\n",
              "3     43600                     The Dark Knight Rises  ...   49026         4765\n",
              "4     43601                               John Carter  ...   49529         4766\n",
              "...     ...                                       ...  ...     ...          ...\n",
              "4768  48395                               El Mariachi  ...    9367         5097\n",
              "4769  48396                                 Newlyweds  ...   72766         6485\n",
              "4770  48397                 Signed, Sealed, Delivered  ...  231617         7108\n",
              "4771  48398                          Shanghai Calling  ...  126186         7109\n",
              "4772  48399                         My Date with Drew  ...   25975         7110\n",
              "\n",
              "[4773 rows x 13 columns]"
            ]
          },
          "metadata": {},
          "execution_count": 40
        }
      ]
    },
    {
      "cell_type": "markdown",
      "source": [
        ""
      ],
      "metadata": {
        "id": "U9mdAHDKfHPp"
      }
    },
    {
      "cell_type": "code",
      "source": [
        "movies_df.info()"
      ],
      "metadata": {
        "id": "6oVfKd95jgZ6",
        "colab": {
          "base_uri": "https://localhost:8080/"
        },
        "outputId": "8b899905-7282-4753-8240-a55bc3f2b175"
      },
      "execution_count": 41,
      "outputs": [
        {
          "output_type": "stream",
          "name": "stdout",
          "text": [
            "<class 'pandas.core.frame.DataFrame'>\n",
            "RangeIndex: 4773 entries, 0 to 4772\n",
            "Data columns (total 13 columns):\n",
            " #   Column          Non-Null Count  Dtype  \n",
            "---  ------          --------------  -----  \n",
            " 0   id              4773 non-null   int64  \n",
            " 1   original_title  4773 non-null   object \n",
            " 2   budget          4773 non-null   int64  \n",
            " 3   popularity      4773 non-null   int64  \n",
            " 4   release_date    4773 non-null   object \n",
            " 5   revenue         4773 non-null   int64  \n",
            " 6   title           4773 non-null   object \n",
            " 7   vote_average    4773 non-null   float64\n",
            " 8   vote_count      4773 non-null   int64  \n",
            " 9   overview        4770 non-null   object \n",
            " 10  tagline         3951 non-null   object \n",
            " 11  uid             4773 non-null   int64  \n",
            " 12  director_id     4773 non-null   int64  \n",
            "dtypes: float64(1), int64(7), object(5)\n",
            "memory usage: 484.9+ KB\n"
          ]
        }
      ]
    },
    {
      "cell_type": "code",
      "source": [
        "# Fetch all the data of the Directors table from the database\n",
        "cur.execute('SELECT * FROM directors')\n",
        "\n",
        "#creating a cursor object\n",
        "directors = cur.fetchall()\n",
        "\n",
        "#creating dataframe for director table\n",
        "directors_df = pd.DataFrame(directors, columns=['name','director_id','Gender','uid','department'])"
      ],
      "metadata": {
        "id": "TKIeEtjgjmIq"
      },
      "execution_count": 42,
      "outputs": []
    },
    {
      "cell_type": "code",
      "source": [
        "directors_df.head()"
      ],
      "metadata": {
        "id": "g6-f1FPmlVP_",
        "colab": {
          "base_uri": "https://localhost:8080/",
          "height": 206
        },
        "outputId": "c4ae275b-ed6e-46c1-8736-4da92a1f734d"
      },
      "execution_count": 43,
      "outputs": [
        {
          "output_type": "execute_result",
          "data": {
            "text/html": [
              "\n",
              "  <div id=\"df-2442d2d4-efd6-47de-96ae-5dfab28fd72c\">\n",
              "    <div class=\"colab-df-container\">\n",
              "      <div>\n",
              "<style scoped>\n",
              "    .dataframe tbody tr th:only-of-type {\n",
              "        vertical-align: middle;\n",
              "    }\n",
              "\n",
              "    .dataframe tbody tr th {\n",
              "        vertical-align: top;\n",
              "    }\n",
              "\n",
              "    .dataframe thead th {\n",
              "        text-align: right;\n",
              "    }\n",
              "</style>\n",
              "<table border=\"1\" class=\"dataframe\">\n",
              "  <thead>\n",
              "    <tr style=\"text-align: right;\">\n",
              "      <th></th>\n",
              "      <th>name</th>\n",
              "      <th>director_id</th>\n",
              "      <th>Gender</th>\n",
              "      <th>uid</th>\n",
              "      <th>department</th>\n",
              "    </tr>\n",
              "  </thead>\n",
              "  <tbody>\n",
              "    <tr>\n",
              "      <th>0</th>\n",
              "      <td>James Cameron</td>\n",
              "      <td>4762</td>\n",
              "      <td>2</td>\n",
              "      <td>2710</td>\n",
              "      <td>Directing</td>\n",
              "    </tr>\n",
              "    <tr>\n",
              "      <th>1</th>\n",
              "      <td>Gore Verbinski</td>\n",
              "      <td>4763</td>\n",
              "      <td>2</td>\n",
              "      <td>1704</td>\n",
              "      <td>Directing</td>\n",
              "    </tr>\n",
              "    <tr>\n",
              "      <th>2</th>\n",
              "      <td>Sam Mendes</td>\n",
              "      <td>4764</td>\n",
              "      <td>2</td>\n",
              "      <td>39</td>\n",
              "      <td>Directing</td>\n",
              "    </tr>\n",
              "    <tr>\n",
              "      <th>3</th>\n",
              "      <td>Christopher Nolan</td>\n",
              "      <td>4765</td>\n",
              "      <td>2</td>\n",
              "      <td>525</td>\n",
              "      <td>Directing</td>\n",
              "    </tr>\n",
              "    <tr>\n",
              "      <th>4</th>\n",
              "      <td>Andrew Stanton</td>\n",
              "      <td>4766</td>\n",
              "      <td>2</td>\n",
              "      <td>7</td>\n",
              "      <td>Directing</td>\n",
              "    </tr>\n",
              "  </tbody>\n",
              "</table>\n",
              "</div>\n",
              "      <button class=\"colab-df-convert\" onclick=\"convertToInteractive('df-2442d2d4-efd6-47de-96ae-5dfab28fd72c')\"\n",
              "              title=\"Convert this dataframe to an interactive table.\"\n",
              "              style=\"display:none;\">\n",
              "        \n",
              "  <svg xmlns=\"http://www.w3.org/2000/svg\" height=\"24px\"viewBox=\"0 0 24 24\"\n",
              "       width=\"24px\">\n",
              "    <path d=\"M0 0h24v24H0V0z\" fill=\"none\"/>\n",
              "    <path d=\"M18.56 5.44l.94 2.06.94-2.06 2.06-.94-2.06-.94-.94-2.06-.94 2.06-2.06.94zm-11 1L8.5 8.5l.94-2.06 2.06-.94-2.06-.94L8.5 2.5l-.94 2.06-2.06.94zm10 10l.94 2.06.94-2.06 2.06-.94-2.06-.94-.94-2.06-.94 2.06-2.06.94z\"/><path d=\"M17.41 7.96l-1.37-1.37c-.4-.4-.92-.59-1.43-.59-.52 0-1.04.2-1.43.59L10.3 9.45l-7.72 7.72c-.78.78-.78 2.05 0 2.83L4 21.41c.39.39.9.59 1.41.59.51 0 1.02-.2 1.41-.59l7.78-7.78 2.81-2.81c.8-.78.8-2.07 0-2.86zM5.41 20L4 18.59l7.72-7.72 1.47 1.35L5.41 20z\"/>\n",
              "  </svg>\n",
              "      </button>\n",
              "      \n",
              "  <style>\n",
              "    .colab-df-container {\n",
              "      display:flex;\n",
              "      flex-wrap:wrap;\n",
              "      gap: 12px;\n",
              "    }\n",
              "\n",
              "    .colab-df-convert {\n",
              "      background-color: #E8F0FE;\n",
              "      border: none;\n",
              "      border-radius: 50%;\n",
              "      cursor: pointer;\n",
              "      display: none;\n",
              "      fill: #1967D2;\n",
              "      height: 32px;\n",
              "      padding: 0 0 0 0;\n",
              "      width: 32px;\n",
              "    }\n",
              "\n",
              "    .colab-df-convert:hover {\n",
              "      background-color: #E2EBFA;\n",
              "      box-shadow: 0px 1px 2px rgba(60, 64, 67, 0.3), 0px 1px 3px 1px rgba(60, 64, 67, 0.15);\n",
              "      fill: #174EA6;\n",
              "    }\n",
              "\n",
              "    [theme=dark] .colab-df-convert {\n",
              "      background-color: #3B4455;\n",
              "      fill: #D2E3FC;\n",
              "    }\n",
              "\n",
              "    [theme=dark] .colab-df-convert:hover {\n",
              "      background-color: #434B5C;\n",
              "      box-shadow: 0px 1px 3px 1px rgba(0, 0, 0, 0.15);\n",
              "      filter: drop-shadow(0px 1px 2px rgba(0, 0, 0, 0.3));\n",
              "      fill: #FFFFFF;\n",
              "    }\n",
              "  </style>\n",
              "\n",
              "      <script>\n",
              "        const buttonEl =\n",
              "          document.querySelector('#df-2442d2d4-efd6-47de-96ae-5dfab28fd72c button.colab-df-convert');\n",
              "        buttonEl.style.display =\n",
              "          google.colab.kernel.accessAllowed ? 'block' : 'none';\n",
              "\n",
              "        async function convertToInteractive(key) {\n",
              "          const element = document.querySelector('#df-2442d2d4-efd6-47de-96ae-5dfab28fd72c');\n",
              "          const dataTable =\n",
              "            await google.colab.kernel.invokeFunction('convertToInteractive',\n",
              "                                                     [key], {});\n",
              "          if (!dataTable) return;\n",
              "\n",
              "          const docLinkHtml = 'Like what you see? Visit the ' +\n",
              "            '<a target=\"_blank\" href=https://colab.research.google.com/notebooks/data_table.ipynb>data table notebook</a>'\n",
              "            + ' to learn more about interactive tables.';\n",
              "          element.innerHTML = '';\n",
              "          dataTable['output_type'] = 'display_data';\n",
              "          await google.colab.output.renderOutput(dataTable, element);\n",
              "          const docLink = document.createElement('div');\n",
              "          docLink.innerHTML = docLinkHtml;\n",
              "          element.appendChild(docLink);\n",
              "        }\n",
              "      </script>\n",
              "    </div>\n",
              "  </div>\n",
              "  "
            ],
            "text/plain": [
              "                name  director_id  Gender   uid department\n",
              "0      James Cameron         4762       2  2710  Directing\n",
              "1     Gore Verbinski         4763       2  1704  Directing\n",
              "2         Sam Mendes         4764       2    39  Directing\n",
              "3  Christopher Nolan         4765       2   525  Directing\n",
              "4     Andrew Stanton         4766       2     7  Directing"
            ]
          },
          "metadata": {},
          "execution_count": 43
        }
      ]
    },
    {
      "cell_type": "code",
      "source": [
        "directors_df.info()"
      ],
      "metadata": {
        "id": "EsqCKas8l6PQ",
        "colab": {
          "base_uri": "https://localhost:8080/"
        },
        "outputId": "0e75db63-5f31-4496-9e96-100e8e91f4b3"
      },
      "execution_count": 44,
      "outputs": [
        {
          "output_type": "stream",
          "name": "stdout",
          "text": [
            "<class 'pandas.core.frame.DataFrame'>\n",
            "RangeIndex: 2349 entries, 0 to 2348\n",
            "Data columns (total 5 columns):\n",
            " #   Column       Non-Null Count  Dtype \n",
            "---  ------       --------------  ----- \n",
            " 0   name         2349 non-null   object\n",
            " 1   director_id  2349 non-null   int64 \n",
            " 2   Gender       2349 non-null   int64 \n",
            " 3   uid          2349 non-null   int64 \n",
            " 4   department   2349 non-null   object\n",
            "dtypes: int64(3), object(2)\n",
            "memory usage: 91.9+ KB\n"
          ]
        }
      ]
    },
    {
      "cell_type": "code",
      "source": [
        "directors_df.describe()"
      ],
      "metadata": {
        "id": "nbZ_R6IOmK-H",
        "colab": {
          "base_uri": "https://localhost:8080/",
          "height": 300
        },
        "outputId": "013d1dad-5abd-4396-e970-821fb20aadf1"
      },
      "execution_count": 45,
      "outputs": [
        {
          "output_type": "execute_result",
          "data": {
            "text/html": [
              "\n",
              "  <div id=\"df-c4898503-ecf3-4a06-a608-0e9304efdfd3\">\n",
              "    <div class=\"colab-df-container\">\n",
              "      <div>\n",
              "<style scoped>\n",
              "    .dataframe tbody tr th:only-of-type {\n",
              "        vertical-align: middle;\n",
              "    }\n",
              "\n",
              "    .dataframe tbody tr th {\n",
              "        vertical-align: top;\n",
              "    }\n",
              "\n",
              "    .dataframe thead th {\n",
              "        text-align: right;\n",
              "    }\n",
              "</style>\n",
              "<table border=\"1\" class=\"dataframe\">\n",
              "  <thead>\n",
              "    <tr style=\"text-align: right;\">\n",
              "      <th></th>\n",
              "      <th>director_id</th>\n",
              "      <th>Gender</th>\n",
              "      <th>uid</th>\n",
              "    </tr>\n",
              "  </thead>\n",
              "  <tbody>\n",
              "    <tr>\n",
              "      <th>count</th>\n",
              "      <td>2349.000000</td>\n",
              "      <td>2349.000000</td>\n",
              "      <td>2.349000e+03</td>\n",
              "    </tr>\n",
              "    <tr>\n",
              "      <th>mean</th>\n",
              "      <td>5936.000000</td>\n",
              "      <td>1.404002</td>\n",
              "      <td>1.928479e+05</td>\n",
              "    </tr>\n",
              "    <tr>\n",
              "      <th>std</th>\n",
              "      <td>678.242213</td>\n",
              "      <td>0.879349</td>\n",
              "      <td>3.710910e+05</td>\n",
              "    </tr>\n",
              "    <tr>\n",
              "      <th>min</th>\n",
              "      <td>4762.000000</td>\n",
              "      <td>0.000000</td>\n",
              "      <td>1.000000e+00</td>\n",
              "    </tr>\n",
              "    <tr>\n",
              "      <th>25%</th>\n",
              "      <td>5349.000000</td>\n",
              "      <td>0.000000</td>\n",
              "      <td>1.776400e+04</td>\n",
              "    </tr>\n",
              "    <tr>\n",
              "      <th>50%</th>\n",
              "      <td>5936.000000</td>\n",
              "      <td>2.000000</td>\n",
              "      <td>5.822000e+04</td>\n",
              "    </tr>\n",
              "    <tr>\n",
              "      <th>75%</th>\n",
              "      <td>6523.000000</td>\n",
              "      <td>2.000000</td>\n",
              "      <td>1.096950e+05</td>\n",
              "    </tr>\n",
              "    <tr>\n",
              "      <th>max</th>\n",
              "      <td>7110.000000</td>\n",
              "      <td>2.000000</td>\n",
              "      <td>1.867383e+06</td>\n",
              "    </tr>\n",
              "  </tbody>\n",
              "</table>\n",
              "</div>\n",
              "      <button class=\"colab-df-convert\" onclick=\"convertToInteractive('df-c4898503-ecf3-4a06-a608-0e9304efdfd3')\"\n",
              "              title=\"Convert this dataframe to an interactive table.\"\n",
              "              style=\"display:none;\">\n",
              "        \n",
              "  <svg xmlns=\"http://www.w3.org/2000/svg\" height=\"24px\"viewBox=\"0 0 24 24\"\n",
              "       width=\"24px\">\n",
              "    <path d=\"M0 0h24v24H0V0z\" fill=\"none\"/>\n",
              "    <path d=\"M18.56 5.44l.94 2.06.94-2.06 2.06-.94-2.06-.94-.94-2.06-.94 2.06-2.06.94zm-11 1L8.5 8.5l.94-2.06 2.06-.94-2.06-.94L8.5 2.5l-.94 2.06-2.06.94zm10 10l.94 2.06.94-2.06 2.06-.94-2.06-.94-.94-2.06-.94 2.06-2.06.94z\"/><path d=\"M17.41 7.96l-1.37-1.37c-.4-.4-.92-.59-1.43-.59-.52 0-1.04.2-1.43.59L10.3 9.45l-7.72 7.72c-.78.78-.78 2.05 0 2.83L4 21.41c.39.39.9.59 1.41.59.51 0 1.02-.2 1.41-.59l7.78-7.78 2.81-2.81c.8-.78.8-2.07 0-2.86zM5.41 20L4 18.59l7.72-7.72 1.47 1.35L5.41 20z\"/>\n",
              "  </svg>\n",
              "      </button>\n",
              "      \n",
              "  <style>\n",
              "    .colab-df-container {\n",
              "      display:flex;\n",
              "      flex-wrap:wrap;\n",
              "      gap: 12px;\n",
              "    }\n",
              "\n",
              "    .colab-df-convert {\n",
              "      background-color: #E8F0FE;\n",
              "      border: none;\n",
              "      border-radius: 50%;\n",
              "      cursor: pointer;\n",
              "      display: none;\n",
              "      fill: #1967D2;\n",
              "      height: 32px;\n",
              "      padding: 0 0 0 0;\n",
              "      width: 32px;\n",
              "    }\n",
              "\n",
              "    .colab-df-convert:hover {\n",
              "      background-color: #E2EBFA;\n",
              "      box-shadow: 0px 1px 2px rgba(60, 64, 67, 0.3), 0px 1px 3px 1px rgba(60, 64, 67, 0.15);\n",
              "      fill: #174EA6;\n",
              "    }\n",
              "\n",
              "    [theme=dark] .colab-df-convert {\n",
              "      background-color: #3B4455;\n",
              "      fill: #D2E3FC;\n",
              "    }\n",
              "\n",
              "    [theme=dark] .colab-df-convert:hover {\n",
              "      background-color: #434B5C;\n",
              "      box-shadow: 0px 1px 3px 1px rgba(0, 0, 0, 0.15);\n",
              "      filter: drop-shadow(0px 1px 2px rgba(0, 0, 0, 0.3));\n",
              "      fill: #FFFFFF;\n",
              "    }\n",
              "  </style>\n",
              "\n",
              "      <script>\n",
              "        const buttonEl =\n",
              "          document.querySelector('#df-c4898503-ecf3-4a06-a608-0e9304efdfd3 button.colab-df-convert');\n",
              "        buttonEl.style.display =\n",
              "          google.colab.kernel.accessAllowed ? 'block' : 'none';\n",
              "\n",
              "        async function convertToInteractive(key) {\n",
              "          const element = document.querySelector('#df-c4898503-ecf3-4a06-a608-0e9304efdfd3');\n",
              "          const dataTable =\n",
              "            await google.colab.kernel.invokeFunction('convertToInteractive',\n",
              "                                                     [key], {});\n",
              "          if (!dataTable) return;\n",
              "\n",
              "          const docLinkHtml = 'Like what you see? Visit the ' +\n",
              "            '<a target=\"_blank\" href=https://colab.research.google.com/notebooks/data_table.ipynb>data table notebook</a>'\n",
              "            + ' to learn more about interactive tables.';\n",
              "          element.innerHTML = '';\n",
              "          dataTable['output_type'] = 'display_data';\n",
              "          await google.colab.output.renderOutput(dataTable, element);\n",
              "          const docLink = document.createElement('div');\n",
              "          docLink.innerHTML = docLinkHtml;\n",
              "          element.appendChild(docLink);\n",
              "        }\n",
              "      </script>\n",
              "    </div>\n",
              "  </div>\n",
              "  "
            ],
            "text/plain": [
              "       director_id       Gender           uid\n",
              "count  2349.000000  2349.000000  2.349000e+03\n",
              "mean   5936.000000     1.404002  1.928479e+05\n",
              "std     678.242213     0.879349  3.710910e+05\n",
              "min    4762.000000     0.000000  1.000000e+00\n",
              "25%    5349.000000     0.000000  1.776400e+04\n",
              "50%    5936.000000     2.000000  5.822000e+04\n",
              "75%    6523.000000     2.000000  1.096950e+05\n",
              "max    7110.000000     2.000000  1.867383e+06"
            ]
          },
          "metadata": {},
          "execution_count": 45
        }
      ]
    },
    {
      "cell_type": "markdown",
      "source": [
        "Questions"
      ],
      "metadata": {
        "id": "QJLu4WsS0ot-"
      }
    },
    {
      "cell_type": "markdown",
      "source": [
        "Q1. How many movies are present in the movies table?"
      ],
      "metadata": {
        "id": "EOS4n5Fu4n_4"
      }
    },
    {
      "cell_type": "code",
      "source": [
        "movies_df.columns"
      ],
      "metadata": {
        "id": "jJVrb_9VsZZc",
        "colab": {
          "base_uri": "https://localhost:8080/"
        },
        "outputId": "c1382280-9bd5-49db-a31e-5acf36568f8f"
      },
      "execution_count": 46,
      "outputs": [
        {
          "output_type": "execute_result",
          "data": {
            "text/plain": [
              "Index(['id', 'original_title', 'budget', 'popularity', 'release_date',\n",
              "       'revenue', 'title', 'vote_average', 'vote_count', 'overview', 'tagline',\n",
              "       'uid', 'director_id'],\n",
              "      dtype='object')"
            ]
          },
          "metadata": {},
          "execution_count": 46
        }
      ]
    },
    {
      "cell_type": "code",
      "source": [
        "cur.execute('SELECT COUNT(original_title) FROM movies')\n",
        "count = cur.fetchall()\n",
        "print(f'The no:of movies present in movies table is {count[0]}')"
      ],
      "metadata": {
        "id": "D1x7UgGdsj0Y",
        "colab": {
          "base_uri": "https://localhost:8080/"
        },
        "outputId": "3a1f3215-3725-4006-b61a-35baf68bad72"
      },
      "execution_count": 47,
      "outputs": [
        {
          "output_type": "stream",
          "name": "stdout",
          "text": [
            "The no:of movies present in movies table is (4773,)\n"
          ]
        }
      ]
    },
    {
      "cell_type": "markdown",
      "source": [
        "* Conclusion: There are 4773 movies present in the table"
      ],
      "metadata": {
        "id": "9Sv_UvqR4uDT"
      }
    },
    {
      "cell_type": "markdown",
      "source": [
        "Q2. Find these 3 directors: James Cameron, Luc Besson,John Woo"
      ],
      "metadata": {
        "id": "7neHo3ws44qV"
      }
    },
    {
      "cell_type": "code",
      "source": [
        "directors_df.columns"
      ],
      "metadata": {
        "id": "Ms3kPrBXwlWH",
        "colab": {
          "base_uri": "https://localhost:8080/"
        },
        "outputId": "295d8905-0a14-4ef6-aed9-361286340023"
      },
      "execution_count": 48,
      "outputs": [
        {
          "output_type": "execute_result",
          "data": {
            "text/plain": [
              "Index(['name', 'director_id', 'Gender', 'uid', 'department'], dtype='object')"
            ]
          },
          "metadata": {},
          "execution_count": 48
        }
      ]
    },
    {
      "cell_type": "code",
      "source": [
        "cur.execute(\"SELECT * FROM directors where name IN  ('James Cameron','Luc Besson','John Woo')\")\n",
        "three_directors = cur.fetchall()\n",
        "print(f'Here are the details of given directors: {three_directors}')\n"
      ],
      "metadata": {
        "id": "YUpr5HhnxQ2n",
        "colab": {
          "base_uri": "https://localhost:8080/"
        },
        "outputId": "3c835760-0fd3-49ea-b083-1213722028f0"
      },
      "execution_count": 49,
      "outputs": [
        {
          "output_type": "stream",
          "name": "stdout",
          "text": [
            "Here are the details of given directors: [('James Cameron', 4762, 2, 2710, 'Directing'), ('John Woo', 4893, 2, 11401, 'Directing'), ('Luc Besson', 4949, 2, 59, 'Directing')]\n"
          ]
        }
      ]
    },
    {
      "cell_type": "markdown",
      "source": [
        "* Conclusion: All 3 directors found"
      ],
      "metadata": {
        "id": "y4NSp39C5D8D"
      }
    },
    {
      "cell_type": "markdown",
      "source": [
        "Q3.Find all the directors with the name starting with 'Steven'"
      ],
      "metadata": {
        "id": "mcP3CcEE5MVc"
      }
    },
    {
      "cell_type": "code",
      "source": [
        "cur.execute(\"SELECT * FROM directors WHERE name LIKE 'Steven%'\")\n",
        "name = cur.fetchall()\n",
        "print(f'Names starting with \"steven\" are: {name}')"
      ],
      "metadata": {
        "id": "xctQ0nT5yxkR",
        "colab": {
          "base_uri": "https://localhost:8080/"
        },
        "outputId": "ec3afffa-c702-4911-d5e8-9a3c670c8dbb"
      },
      "execution_count": 50,
      "outputs": [
        {
          "output_type": "stream",
          "name": "stdout",
          "text": [
            "Names starting with \"steven\" are: [('Steven Spielberg', 4799, 2, 488, 'Directing'), ('Steven Soderbergh', 4909, 2, 1884, 'Directing'), ('Steven Brill', 5013, 2, 32593, 'Directing'), ('Steven Zaillian', 5117, 2, 2260, 'Directing'), ('Steven Quale', 5216, 2, 93214, 'Directing'), ('Steven Seagal', 5221, 2, 23880, 'Directing'), ('Steven E. de Souza', 5390, 2, 1726, 'Directing'), ('Steven Shainberg', 5803, 2, 67795, 'Directing'), ('Steven R. Monroe', 6713, 2, 88039, 'Directing')]\n"
          ]
        }
      ]
    },
    {
      "cell_type": "markdown",
      "source": [
        "* Conclusion: There are few names that is starting with \"Steven\""
      ],
      "metadata": {
        "id": "w685Mbio19ie"
      }
    },
    {
      "cell_type": "markdown",
      "source": [
        "Q4. Count all the female directors\n",
        "Hint: Gender = 1"
      ],
      "metadata": {
        "id": "3mEEklGf4G7l"
      }
    },
    {
      "cell_type": "code",
      "source": [
        "cur.execute(\"SELECT COUNT(*) FROM directors WHERE gender == '1' \")\n",
        "fem_directors = cur.fetchall()\n",
        "print(f'The No:of Female directors is: {fem_directors[0][0]}')\n"
      ],
      "metadata": {
        "id": "oWBVBFyl1v7J",
        "colab": {
          "base_uri": "https://localhost:8080/"
        },
        "outputId": "6f0c9240-16b4-4f37-a786-d86a0342d67a"
      },
      "execution_count": 51,
      "outputs": [
        {
          "output_type": "stream",
          "name": "stdout",
          "text": [
            "The No:of Female directors is: 150\n"
          ]
        }
      ]
    },
    {
      "cell_type": "markdown",
      "source": [
        "* Conclusion: There are 150 female directors"
      ],
      "metadata": {
        "id": "AjQWz61-4ZYr"
      }
    },
    {
      "cell_type": "markdown",
      "source": [
        "Q5. Find the names of the 10th first female director"
      ],
      "metadata": {
        "id": "yGX3So6x5T7F"
      }
    },
    {
      "cell_type": "code",
      "source": [
        "cur.execute(\"SELECT name FROM directors WHERE gender == '1'\")\n",
        "tenth = cur.fetchall()\n",
        "print(f'The tenth female director is: {tenth[9][0]}')"
      ],
      "metadata": {
        "id": "Nyyre9Ui3gqy",
        "colab": {
          "base_uri": "https://localhost:8080/"
        },
        "outputId": "33b9163c-9185-4a27-af00-6271f6f9de97"
      },
      "execution_count": 52,
      "outputs": [
        {
          "output_type": "stream",
          "name": "stdout",
          "text": [
            "The tenth female director is: Angelina Jolie\n"
          ]
        }
      ]
    },
    {
      "cell_type": "markdown",
      "source": [
        "* Conclusion: Angelina Jolie is the 10th female director "
      ],
      "metadata": {
        "id": "c5es9BCOA-J1"
      }
    },
    {
      "cell_type": "markdown",
      "source": [
        "Q6. Find the top 3 most popular movies"
      ],
      "metadata": {
        "id": "eSssNGyaBNWf"
      }
    },
    {
      "cell_type": "code",
      "source": [
        "movies_df.columns"
      ],
      "metadata": {
        "id": "vxYNW_m26gTm",
        "colab": {
          "base_uri": "https://localhost:8080/"
        },
        "outputId": "d5810fcb-3d76-4b19-ff74-c391366108bc"
      },
      "execution_count": 53,
      "outputs": [
        {
          "output_type": "execute_result",
          "data": {
            "text/plain": [
              "Index(['id', 'original_title', 'budget', 'popularity', 'release_date',\n",
              "       'revenue', 'title', 'vote_average', 'vote_count', 'overview', 'tagline',\n",
              "       'uid', 'director_id'],\n",
              "      dtype='object')"
            ]
          },
          "metadata": {},
          "execution_count": 53
        }
      ]
    },
    {
      "cell_type": "code",
      "source": [
        "movies_df.popularity"
      ],
      "metadata": {
        "id": "cKpw1_mNBaRh",
        "colab": {
          "base_uri": "https://localhost:8080/"
        },
        "outputId": "85116c59-0a82-4628-f9fc-f5ef0a8da6eb"
      },
      "execution_count": 54,
      "outputs": [
        {
          "output_type": "execute_result",
          "data": {
            "text/plain": [
              "0       150\n",
              "1       139\n",
              "2       107\n",
              "3       112\n",
              "4        43\n",
              "       ... \n",
              "4768     14\n",
              "4769      0\n",
              "4770      1\n",
              "4771      0\n",
              "4772      1\n",
              "Name: popularity, Length: 4773, dtype: int64"
            ]
          },
          "metadata": {},
          "execution_count": 54
        }
      ]
    },
    {
      "cell_type": "code",
      "source": [
        "cur.execute(\"SELECT original_title FROM movies ORDER BY popularity DESC\")\n",
        "popular = cur.fetchall()\n",
        "print(f'The top3 most popular movies are: {popular[0:3]}')"
      ],
      "metadata": {
        "id": "t-zgJ-F9BfXR",
        "colab": {
          "base_uri": "https://localhost:8080/"
        },
        "outputId": "61df6556-90c9-416f-f7dc-c88cd81dea53"
      },
      "execution_count": 55,
      "outputs": [
        {
          "output_type": "stream",
          "name": "stdout",
          "text": [
            "The top3 most popular movies are: [('Minions',), ('Interstellar',), ('Deadpool',)]\n"
          ]
        }
      ]
    },
    {
      "cell_type": "markdown",
      "source": [
        "* Conclusion: Minions Interstellar & Deadpool are the most popular movies"
      ],
      "metadata": {
        "id": "2Vdhy-D-Lezx"
      }
    },
    {
      "cell_type": "markdown",
      "source": [
        "Q7. Find the Top 3 most bankable(budget) movies"
      ],
      "metadata": {
        "id": "BuEvPk-bLssZ"
      }
    },
    {
      "cell_type": "code",
      "source": [
        "movies_df.columns"
      ],
      "metadata": {
        "id": "s-CRmYXYKMjl",
        "colab": {
          "base_uri": "https://localhost:8080/"
        },
        "outputId": "80df987e-46f8-47e2-ad88-39d07308717c"
      },
      "execution_count": 56,
      "outputs": [
        {
          "output_type": "execute_result",
          "data": {
            "text/plain": [
              "Index(['id', 'original_title', 'budget', 'popularity', 'release_date',\n",
              "       'revenue', 'title', 'vote_average', 'vote_count', 'overview', 'tagline',\n",
              "       'uid', 'director_id'],\n",
              "      dtype='object')"
            ]
          },
          "metadata": {},
          "execution_count": 56
        }
      ]
    },
    {
      "cell_type": "code",
      "source": [
        "cur.execute(\"SELECT original_title FROM movies ORDER BY budget DESC LIMIT 3\")\n",
        "budget = cur.fetchall()\n",
        "print(f'Top 3 most bankable films are: {budget}')"
      ],
      "metadata": {
        "id": "gfWYSl4cz6Hq",
        "colab": {
          "base_uri": "https://localhost:8080/"
        },
        "outputId": "e039d661-67f3-45a1-c338-29739260ef75"
      },
      "execution_count": 57,
      "outputs": [
        {
          "output_type": "stream",
          "name": "stdout",
          "text": [
            "Top 3 most bankable films are: [('Pirates of the Caribbean: On Stranger Tides',), (\"Pirates of the Caribbean: At World's End\",), ('Avengers: Age of Ultron',)]\n"
          ]
        }
      ]
    },
    {
      "cell_type": "markdown",
      "source": [
        "* Conclusion: Pirates of the Caribbean: On Stranger Tides,Pirates of the Caribbean: At World's End & Avengers: Age of Ultron are the Top 3 most bankable movies"
      ],
      "metadata": {
        "id": "MydG57dG25tt"
      }
    },
    {
      "cell_type": "markdown",
      "source": [
        "Q8. Find out the most awarded avg rated movie since jan 1st, 2000"
      ],
      "metadata": {
        "id": "LkvSCtAq52sp"
      }
    },
    {
      "cell_type": "code",
      "source": [
        "cur.execute(\"SELECT original_title FROM movies WHERE release_date > '2000-01-01' ORDER BY vote_average DESC LIMIT 1\")\n",
        "avgRated = cur.fetchall()\n",
        "print(f'The most awarded avg rated movie since jan 1st 2000 is: {avgRated[0][0]}')"
      ],
      "metadata": {
        "colab": {
          "base_uri": "https://localhost:8080/"
        },
        "id": "bt5jfJtM2pJx",
        "outputId": "1fc5331c-02c3-4b44-db7a-dfac5b0f2f67"
      },
      "execution_count": 58,
      "outputs": [
        {
          "output_type": "stream",
          "name": "stdout",
          "text": [
            "The most awarded avg rated movie since jan 1st 2000 is: Sardaarji\n"
          ]
        }
      ]
    },
    {
      "cell_type": "markdown",
      "source": [
        "* Conclusion: Sardaarji is the most awarded avg rated movie since jan 1st 2000"
      ],
      "metadata": {
        "id": "OjZ4nPGj8H_N"
      }
    },
    {
      "cell_type": "markdown",
      "source": [
        "Q9. Find all the movies that has been directed by Brenda Chapman"
      ],
      "metadata": {
        "id": "WWGM77-h75uI"
      }
    },
    {
      "cell_type": "code",
      "source": [
        "cur.execute(\"SELECT original_title from movies LEFT JOIN directors ON movies.director_id = directors.id WHERE directors.name = 'Brenda Chapman'\")\n",
        "brenda = cur.fetchall()\n",
        "print(f'Movie(s) that are/is directed by Brenda Chapman: {brenda[0][0]}')"
      ],
      "metadata": {
        "colab": {
          "base_uri": "https://localhost:8080/"
        },
        "id": "z5Y2tRB26nj2",
        "outputId": "98980364-b64f-4510-aa97-d4e4f3d9d819"
      },
      "execution_count": 59,
      "outputs": [
        {
          "output_type": "stream",
          "name": "stdout",
          "text": [
            "Movie(s) that are/is directed by Brenda Chapman: Brave\n"
          ]
        }
      ]
    },
    {
      "cell_type": "markdown",
      "source": [
        "* Conclusion: \"Brave\" is the only movie that is directed by Brenda Chapman"
      ],
      "metadata": {
        "id": "hKaAQAneHnTS"
      }
    },
    {
      "cell_type": "markdown",
      "source": [
        "Q10. Find out the director who has made the most movies?"
      ],
      "metadata": {
        "id": "XUAGihZxH-GX"
      }
    },
    {
      "cell_type": "code",
      "source": [
        "query = \"SELECT name FROM directors JOIN movies ON directors.id = movies.director_id GROUP BY director_id ORDER BY COUNT(name) DESC LIMIT 1\"\n",
        "cur.execute(query)\n",
        "dir = cur.fetchall()\n",
        "print(f'The director with most movies: {dir[0][0]}')"
      ],
      "metadata": {
        "colab": {
          "base_uri": "https://localhost:8080/"
        },
        "id": "8IbrOVk9Heuc",
        "outputId": "930f3636-0344-4e75-9385-248e456c9464"
      },
      "execution_count": 60,
      "outputs": [
        {
          "output_type": "stream",
          "name": "stdout",
          "text": [
            "The director with most movies: Steven Spielberg\n"
          ]
        }
      ]
    },
    {
      "cell_type": "markdown",
      "source": [
        "* Conclusion: Steven Spielberg has directed the most no:of movies"
      ],
      "metadata": {
        "id": "wRVz5leVMLtq"
      }
    },
    {
      "cell_type": "markdown",
      "source": [
        "Q11. Find out the director who is most bankable?"
      ],
      "metadata": {
        "id": "NvoC7XHLMnl8"
      }
    },
    {
      "cell_type": "code",
      "source": [
        "movies_df.columns"
      ],
      "metadata": {
        "colab": {
          "base_uri": "https://localhost:8080/"
        },
        "id": "RmvRDycSM-IZ",
        "outputId": "6427d39b-f762-4bf1-dc8b-16fba88da5e6"
      },
      "execution_count": 61,
      "outputs": [
        {
          "output_type": "execute_result",
          "data": {
            "text/plain": [
              "Index(['id', 'original_title', 'budget', 'popularity', 'release_date',\n",
              "       'revenue', 'title', 'vote_average', 'vote_count', 'overview', 'tagline',\n",
              "       'uid', 'director_id'],\n",
              "      dtype='object')"
            ]
          },
          "metadata": {},
          "execution_count": 61
        }
      ]
    },
    {
      "cell_type": "code",
      "source": [
        "query = \"SELECT name FROM directors JOIN movies ON directors.id = movies.director_id GROUP BY director_id ORDER BY SUM(budget) DESC LIMIT 1\"\n",
        "cur.execute(query)\n",
        "dir_mostBankable = cur.fetchall()\n",
        "print(f'The director who is most bankable: {dir_mostBankable[0][0]}')"
      ],
      "metadata": {
        "colab": {
          "base_uri": "https://localhost:8080/"
        },
        "id": "i0BHqmyNMJGD",
        "outputId": "1a0f55ce-8c53-4232-d3b1-ae4db7e20b53"
      },
      "execution_count": 62,
      "outputs": [
        {
          "output_type": "stream",
          "name": "stdout",
          "text": [
            "The director who is most bankable: Steven Spielberg\n"
          ]
        }
      ]
    },
    {
      "cell_type": "markdown",
      "source": [
        "* Conclusion: Steven Spielberg is the most bankable director"
      ],
      "metadata": {
        "id": "LDsp7BU_O3xY"
      }
    },
    {
      "cell_type": "markdown",
      "source": [
        "Q12. Find out the top 10 highest budget making movies?"
      ],
      "metadata": {
        "id": "QGr1_fklOsW4"
      }
    },
    {
      "cell_type": "code",
      "source": [
        "query = \"SELECT original_title FROM movies ORDER BY budget DESC LIMIT 10\"\n",
        "cur.execute(query)\n",
        "top_budget = cur.fetchall()\n",
        "print(f'The top 10 highest budget movies are: {top_budget}')"
      ],
      "metadata": {
        "colab": {
          "base_uri": "https://localhost:8080/"
        },
        "id": "xKPlzzH4OYx3",
        "outputId": "194e989f-6de0-4891-9822-d80f7f56d822"
      },
      "execution_count": 63,
      "outputs": [
        {
          "output_type": "stream",
          "name": "stdout",
          "text": [
            "The top 10 highest budget movies are: [('Pirates of the Caribbean: On Stranger Tides',), (\"Pirates of the Caribbean: At World's End\",), ('Avengers: Age of Ultron',), ('Superman Returns',), ('John Carter',), ('Tangled',), ('Spider-Man 3',), ('The Lone Ranger',), ('The Dark Knight Rises',), ('Harry Potter and the Half-Blood Prince',)]\n"
          ]
        }
      ]
    },
    {
      "cell_type": "markdown",
      "source": [
        "* Conclusion: printed the top 10 highest budget movies"
      ],
      "metadata": {
        "id": "WRMc05fQP_uV"
      }
    },
    {
      "cell_type": "markdown",
      "source": [
        "Q13. Find the top 10 revenue making movies"
      ],
      "metadata": {
        "id": "iFVFT1EzQK7D"
      }
    },
    {
      "cell_type": "code",
      "source": [
        "query = \"SELECT original_title FROM movies ORDER BY revenue DESC LIMIT 10\"\n",
        "cur.execute(query)\n",
        "top_revenue = cur.fetchall()\n",
        "print(f'The top 10 highest revenue movies are: {top_revenue}')"
      ],
      "metadata": {
        "colab": {
          "base_uri": "https://localhost:8080/"
        },
        "id": "Q8YQDZH0Pl87",
        "outputId": "d86a1e03-02bf-49bb-be29-d39fe68ca70b"
      },
      "execution_count": 64,
      "outputs": [
        {
          "output_type": "stream",
          "name": "stdout",
          "text": [
            "The top 10 highest revenue movies are: [('Avatar',), ('Titanic',), ('The Avengers',), ('Jurassic World',), ('Furious 7',), ('Avengers: Age of Ultron',), ('Frozen',), ('Iron Man 3',), ('Minions',), ('Captain America: Civil War',)]\n"
          ]
        }
      ]
    },
    {
      "cell_type": "markdown",
      "source": [
        "* Conclusion: printed the top 10 highest revenue movies"
      ],
      "metadata": {
        "id": "5NFkt4xBQwuP"
      }
    },
    {
      "cell_type": "markdown",
      "source": [
        "Q14. Find out the top 10 most popular movies with the highest rating"
      ],
      "metadata": {
        "id": "RjBl3V_5SVwd"
      }
    },
    {
      "cell_type": "code",
      "source": [
        "query = \"SELECT original_title FROM movies ORDER BY vote_average DESC LIMIT 10\"\n",
        "cur.execute(query)\n",
        "top_rating = cur.fetchall()\n",
        "print(f'The top 10 most popular movies with the highest ratings are: {top_rating}')"
      ],
      "metadata": {
        "colab": {
          "base_uri": "https://localhost:8080/"
        },
        "id": "xOt4SALYQtNY",
        "outputId": "dc83628e-b130-48af-fa7b-9f1a8e52cbcd"
      },
      "execution_count": 65,
      "outputs": [
        {
          "output_type": "stream",
          "name": "stdout",
          "text": [
            "The top 10 most popular movies with the highest ratings are: [('Stiff Upper Lips',), ('Dancer, Texas Pop. 81',), ('Sardaarji',), (\"One Man's Hero\",), ('The Shawshank Redemption',), ('There Goes My Baby',), ('The Prisoner of Zenda',), ('The Godfather',), ('Fight Club',), (\"Schindler's List\",)]\n"
          ]
        }
      ]
    },
    {
      "cell_type": "markdown",
      "source": [
        "* Conclusion: Printed the top 10 most popular movies with the highest rating"
      ],
      "metadata": {
        "id": "IeetxdFppHM0"
      }
    },
    {
      "cell_type": "markdown",
      "source": [
        "Q15. Find the top10 directors with the no:of movies and revenue where revenue should be taken into account for doing  the analysis"
      ],
      "metadata": {
        "id": "pTtgm68mpUO0"
      }
    },
    {
      "cell_type": "code",
      "source": [
        "query = \"SELECT directors.name, COUNT(original_title), SUM(revenue) FROM directors JOIN movies ON directors.id = movies.director_id GROUP BY director_id ORDER BY SUM(revenue) DESC LIMIT 10\"\n",
        "cur.execute(query)\n",
        "top_10 = cur.fetchall()\n",
        "print(f'The top10 directors with the no:of movies and revenue are: {top_10}') "
      ],
      "metadata": {
        "colab": {
          "base_uri": "https://localhost:8080/"
        },
        "id": "YY9Td_tdpCVm",
        "outputId": "40b2b645-c592-4c1b-a64d-5c448fcfde33"
      },
      "execution_count": 71,
      "outputs": [
        {
          "output_type": "stream",
          "name": "stdout",
          "text": [
            "The top10 directors with the no:of movies and revenue are: [('Steven Spielberg', 27, 9147393164), ('Peter Jackson', 9, 6498642820), ('James Cameron', 7, 5883569439), ('Michael Bay', 12, 5832524638), ('Christopher Nolan', 8, 4227483234), ('Chris Columbus', 11, 3725631503), ('Robert Zemeckis', 13, 3590622002), ('George Lucas', 5, 3339113893), ('Tim Burton', 14, 3337418241), ('Ridley Scott', 16, 3189557997)]\n"
          ]
        }
      ]
    },
    {
      "cell_type": "code",
      "source": [
        "directors_df.columns"
      ],
      "metadata": {
        "colab": {
          "base_uri": "https://localhost:8080/"
        },
        "id": "m_91vZP6o-4I",
        "outputId": "62e1eb93-0b26-4d9c-f81c-bd9594c751b0"
      },
      "execution_count": 72,
      "outputs": [
        {
          "output_type": "execute_result",
          "data": {
            "text/plain": [
              "Index(['name', 'director_id', 'Gender', 'uid', 'department'], dtype='object')"
            ]
          },
          "metadata": {},
          "execution_count": 72
        }
      ]
    },
    {
      "cell_type": "code",
      "source": [
        "movies_df.columns"
      ],
      "metadata": {
        "colab": {
          "base_uri": "https://localhost:8080/"
        },
        "id": "sWH1MyUvr9eG",
        "outputId": "245e47b0-681d-4368-d264-3b679725b283"
      },
      "execution_count": 68,
      "outputs": [
        {
          "output_type": "execute_result",
          "data": {
            "text/plain": [
              "Index(['id', 'original_title', 'budget', 'popularity', 'release_date',\n",
              "       'revenue', 'title', 'vote_average', 'vote_count', 'overview', 'tagline',\n",
              "       'uid', 'director_id'],\n",
              "      dtype='object')"
            ]
          },
          "metadata": {},
          "execution_count": 68
        }
      ]
    },
    {
      "cell_type": "markdown",
      "source": [
        "* Conclusion: Printed the top10 directors with the no:of movies and revenue where revenue should be taken into account for doing the analysis"
      ],
      "metadata": {
        "id": "QWn3ee89PEGT"
      }
    },
    {
      "cell_type": "markdown",
      "source": [
        "Q16.Find the top10 directors with the no:of movies and revenue where movies should be taken into account for doing  the analysis"
      ],
      "metadata": {
        "id": "ENslLnf751x2"
      }
    },
    {
      "cell_type": "code",
      "source": [
        "query = \"SELECT directors.name, COUNT(original_title), SUM(revenue) FROM directors JOIN movies ON directors.id = movies.director_id GROUP BY director_id ORDER BY COUNT(original_title) DESC LIMIT 10\"\n",
        "cur.execute(query)\n",
        "top_10 = cur.fetchall()\n",
        "print(f'The top10 directors with the no:of movies and revenue are: {top_10}') "
      ],
      "metadata": {
        "colab": {
          "base_uri": "https://localhost:8080/"
        },
        "id": "TbfJwzI_O1SI",
        "outputId": "ef0265de-b3b4-4771-c255-96187394d150"
      },
      "execution_count": 73,
      "outputs": [
        {
          "output_type": "stream",
          "name": "stdout",
          "text": [
            "The top10 directors with the no:of movies and revenue are: [('Steven Spielberg', 27, 9147393164), ('Woody Allen', 21, 669101038), ('Martin Scorsese', 20, 1956635998), ('Clint Eastwood', 20, 2512058888), ('Ridley Scott', 16, 3189557997), ('Robert Rodriguez', 16, 1109899581), ('Spike Lee', 16, 340618771), ('Steven Soderbergh', 15, 2114864443), ('Renny Harlin', 15, 1031500590), ('Tim Burton', 14, 3337418241)]\n"
          ]
        }
      ]
    },
    {
      "cell_type": "markdown",
      "source": [
        "* Conclusion: Printed the top10 directors with the no:of movies and revenue where movies should be taken into account for doing the analysis"
      ],
      "metadata": {
        "id": "eUylfAMvPR4c"
      }
    },
    {
      "cell_type": "markdown",
      "source": [
        "Q17. Give the title, release date, budget, revenue, popularity, and vote average made by Steven Spielberg"
      ],
      "metadata": {
        "id": "lqVXt_cK7uVf"
      }
    },
    {
      "cell_type": "code",
      "source": [
        "query = \"SELECT original_title, release_date, budget, revenue, popularity, vote_average FROM movies JOIN directors ON movies.director_id = directors.id WHERE directors.name ='Steven Spielberg'\"\n",
        "cur.execute(query)\n",
        "ss = cur.fetchall()\n",
        "print(f'The title, release date, budget, revenue, popularity, and vote average made by Steven Spielberg is: {ss}')"
      ],
      "metadata": {
        "id": "qMWAi4Dxs8B8",
        "colab": {
          "base_uri": "https://localhost:8080/"
        },
        "outputId": "f0643415-4984-4dbe-da78-6e44dea8c3fa"
      },
      "execution_count": 78,
      "outputs": [
        {
          "output_type": "stream",
          "name": "stdout",
          "text": [
            "The title, release date, budget, revenue, popularity, and vote average made by Steven Spielberg is: [('Indiana Jones and the Kingdom of the Crystal Skull', '2008-05-21', 185000000, 786636033, 75, 5.7), ('The BFG', '2016-06-01', 140000000, 183345589, 44, 6.0), ('War of the Worlds', '2005-06-28', 132000000, 591739379, 48, 6.2), ('The Adventures of Tintin', '2011-10-25', 130000000, 371940071, 89, 6.7), ('Minority Report', '2002-06-20', 102000000, 358372926, 65, 7.1), ('A.I. Artificial Intelligence', '2001-06-29', 100000000, 235926552, 34, 6.8), ('The Lost World: Jurassic Park', '1997-05-23', 73000000, 229074524, 2, 6.2), ('The Terminal', '2004-06-17', 60000000, 219417255, 57, 7.0), ('Munich', '2005-12-22', 70000000, 130358911, 29, 6.9), ('Hook', '1991-12-11', 70000000, 300854823, 33, 6.6), ('War Horse', '2011-12-25', 66000000, 177584879, 29, 7.0), ('Saving Private Ryan', '1998-07-24', 70000000, 481840909, 76, 7.9), ('Lincoln', '2012-11-09', 65000000, 275293450, 36, 6.7), ('Jurassic Park', '1993-06-11', 63000000, 920100000, 40, 7.6), ('Catch Me If You Can', '2002-12-25', 52000000, 352114312, 73, 7.7), ('Indiana Jones and the Last Crusade', '1989-05-24', 48000000, 474171806, 80, 7.6), ('Bridge of Spies', '2015-10-15', 40000000, 165478348, 48, 7.2), ('Amistad', '1997-12-03', 36000000, 74000000, 3, 6.8), ('1941', '1979-12-13', 35000000, 31755742, 10, 5.6), ('Indiana Jones and the Temple of Doom', '1984-05-23', 28000000, 333000000, 66, 7.1), (\"Schindler's List\", '1993-11-29', 22000000, 321365567, 104, 8.3), ('Raiders of the Lost Ark', '1981-06-12', 18000000, 389925971, 68, 7.7), ('Close Encounters of the Third Kind', '1977-11-16', 20000000, 303788635, 52, 7.2), ('The Color Purple', '1985-12-18', 15000000, 146292009, 17, 7.7), ('Jaws', '1975-06-18', 7000000, 470654000, 50, 7.5), ('E.T. the Extra-Terrestrial', '1982-04-03', 10500000, 792910554, 56, 7.3), ('Twilight Zone: The Movie', '1983-06-24', 10000000, 29450919, 12, 6.2)]\n"
          ]
        }
      ]
    },
    {
      "cell_type": "markdown",
      "source": [
        "* Conclusion: The title, release date, budget, revenue, popularity, and vote average made by Steven Spielberg are printed"
      ],
      "metadata": {
        "id": "i4nXF-LcR5Dc"
      }
    },
    {
      "cell_type": "markdown",
      "source": [
        "Q18. Give the total no:of films made my Steven Spielberg"
      ],
      "metadata": {
        "id": "2f3XDe_jSDme"
      }
    },
    {
      "cell_type": "code",
      "source": [
        "query = \"SELECT COUNT(original_title) FROM movies JOIN directors ON movies.director_id = directors.id WHERE directors.name = 'Steven Spielberg'\"\n",
        "cur.execute(query)\n",
        "ss = cur.fetchall()\n",
        "print(f'The no:of movies made by Steven Spielberg is: {ss[0]}')"
      ],
      "metadata": {
        "colab": {
          "base_uri": "https://localhost:8080/"
        },
        "id": "Y84lCEPzQjDo",
        "outputId": "d4bdb47c-88c8-4cd1-f80d-5828c4b637a2"
      },
      "execution_count": 77,
      "outputs": [
        {
          "output_type": "stream",
          "name": "stdout",
          "text": [
            "The no:of movies made by Steven Spielberg is: (27,)\n"
          ]
        }
      ]
    },
    {
      "cell_type": "markdown",
      "source": [
        "* Conclusion:  Steven Spielberg as directed 27 no:of movies"
      ],
      "metadata": {
        "id": "Wyh0cPofSMSR"
      }
    },
    {
      "cell_type": "code",
      "source": [
        ""
      ],
      "metadata": {
        "id": "dD0cVxAsRe9C"
      },
      "execution_count": null,
      "outputs": []
    }
  ]
}